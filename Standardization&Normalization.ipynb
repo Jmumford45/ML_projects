{
 "cells": [
  {
   "cell_type": "code",
   "execution_count": 1,
   "metadata": {},
   "outputs": [],
   "source": [
    "import pandas as pd\n",
    "import numpy as np\n",
    "import seaborn as sns\n",
    "import matplotlib.pyplot as plt\n",
    "\n",
    "cols = ['loan_amnt', 'int_rate', 'installment']\n",
    "data = pd.read_csv('accepted_2007_to_2018Q4.csv', nrows = 30000, usecols=cols)"
   ]
  },
  {
   "cell_type": "code",
   "execution_count": 2,
   "metadata": {},
   "outputs": [
    {
     "data": {
      "text/plain": [
       "loan_amnt      False\n",
       "int_rate       False\n",
       "installment    False\n",
       "dtype: bool"
      ]
     },
     "execution_count": 2,
     "metadata": {},
     "output_type": "execute_result"
    }
   ],
   "source": [
    "data.isna().any()"
   ]
  },
  {
   "cell_type": "code",
   "execution_count": 11,
   "metadata": {},
   "outputs": [
    {
     "data": {
      "text/html": [
       "<div>\n",
       "<style scoped>\n",
       "    .dataframe tbody tr th:only-of-type {\n",
       "        vertical-align: middle;\n",
       "    }\n",
       "\n",
       "    .dataframe tbody tr th {\n",
       "        vertical-align: top;\n",
       "    }\n",
       "\n",
       "    .dataframe thead th {\n",
       "        text-align: right;\n",
       "    }\n",
       "</style>\n",
       "<table border=\"1\" class=\"dataframe\">\n",
       "  <thead>\n",
       "    <tr style=\"text-align: right;\">\n",
       "      <th></th>\n",
       "      <th>loan_amnt</th>\n",
       "      <th>int_rate</th>\n",
       "      <th>installment</th>\n",
       "    </tr>\n",
       "  </thead>\n",
       "  <tbody>\n",
       "    <tr>\n",
       "      <th>count</th>\n",
       "      <td>30000.000000</td>\n",
       "      <td>30000.000000</td>\n",
       "      <td>30000.000000</td>\n",
       "    </tr>\n",
       "    <tr>\n",
       "      <th>mean</th>\n",
       "      <td>15000.651667</td>\n",
       "      <td>12.242581</td>\n",
       "      <td>434.344285</td>\n",
       "    </tr>\n",
       "    <tr>\n",
       "      <th>std</th>\n",
       "      <td>8709.706176</td>\n",
       "      <td>4.209334</td>\n",
       "      <td>248.655252</td>\n",
       "    </tr>\n",
       "    <tr>\n",
       "      <th>min</th>\n",
       "      <td>1000.000000</td>\n",
       "      <td>5.320000</td>\n",
       "      <td>30.540000</td>\n",
       "    </tr>\n",
       "    <tr>\n",
       "      <th>25%</th>\n",
       "      <td>8000.000000</td>\n",
       "      <td>9.170000</td>\n",
       "      <td>255.030000</td>\n",
       "    </tr>\n",
       "    <tr>\n",
       "      <th>50%</th>\n",
       "      <td>13950.000000</td>\n",
       "      <td>11.990000</td>\n",
       "      <td>378.150000</td>\n",
       "    </tr>\n",
       "    <tr>\n",
       "      <th>75%</th>\n",
       "      <td>20000.000000</td>\n",
       "      <td>14.480000</td>\n",
       "      <td>574.727500</td>\n",
       "    </tr>\n",
       "    <tr>\n",
       "      <th>max</th>\n",
       "      <td>35000.000000</td>\n",
       "      <td>28.990000</td>\n",
       "      <td>1354.660000</td>\n",
       "    </tr>\n",
       "  </tbody>\n",
       "</table>\n",
       "</div>"
      ],
      "text/plain": [
       "          loan_amnt      int_rate   installment\n",
       "count  30000.000000  30000.000000  30000.000000\n",
       "mean   15000.651667     12.242581    434.344285\n",
       "std     8709.706176      4.209334    248.655252\n",
       "min     1000.000000      5.320000     30.540000\n",
       "25%     8000.000000      9.170000    255.030000\n",
       "50%    13950.000000     11.990000    378.150000\n",
       "75%    20000.000000     14.480000    574.727500\n",
       "max    35000.000000     28.990000   1354.660000"
      ]
     },
     "execution_count": 11,
     "metadata": {},
     "output_type": "execute_result"
    }
   ],
   "source": [
    "#describe performs descriptive statistics like count, mean, std, min, max and percentage between\n",
    "data.describe()"
   ]
  },
  {
   "cell_type": "code",
   "execution_count": 5,
   "metadata": {},
   "outputs": [],
   "source": [
    "#standardscaler removes the mean and scales from the data to unit varience\n",
    "from sklearn.preprocessing import StandardScaler"
   ]
  },
  {
   "cell_type": "code",
   "execution_count": 9,
   "metadata": {},
   "outputs": [],
   "source": [
    "scaler = StandardScaler()\n",
    "data_scaled = scaler.fit_transform(data)"
   ]
  },
  {
   "cell_type": "code",
   "execution_count": 12,
   "metadata": {},
   "outputs": [
    {
     "data": {
      "text/plain": [
       "array([ 1.23160741e-17,  3.27323354e-16, -5.11590770e-17])"
      ]
     },
     "execution_count": 12,
     "metadata": {},
     "output_type": "execute_result"
    }
   ],
   "source": [
    "#check the mean and std values\n",
    "data_scaled.mean(axis=0)"
   ]
  },
  {
   "cell_type": "code",
   "execution_count": 13,
   "metadata": {},
   "outputs": [
    {
     "data": {
      "text/plain": [
       "array([1., 1., 1.])"
      ]
     },
     "execution_count": 13,
     "metadata": {},
     "output_type": "execute_result"
    }
   ],
   "source": [
    "data_scaled.std(axis=0)"
   ]
  },
  {
   "cell_type": "code",
   "execution_count": 14,
   "metadata": {},
   "outputs": [
    {
     "name": "stdout",
     "output_type": "stream",
     "text": [
      "Min values (Loan Amnt, Int rate, Installment):  [-1.60750371 -1.64460636 -1.62397944]\n",
      "Max values (Loan Amnt, Int rate, Installment):  [2.29625217 3.97870534 3.70123312]\n"
     ]
    }
   ],
   "source": [
    "print('Min values (Loan Amnt, Int rate, Installment): ', data_scaled.min(axis=0))\n",
    "print('Max values (Loan Amnt, Int rate, Installment): ', data_scaled.max(axis=0))"
   ]
  },
  {
   "cell_type": "code",
   "execution_count": 15,
   "metadata": {},
   "outputs": [],
   "source": [
    "from sklearn.preprocessing import MinMaxScaler\n",
    "scaler = MinMaxScaler()\n",
    "data_scaled = scaler.fit_transform(data)"
   ]
  },
  {
   "cell_type": "code",
   "execution_count": 16,
   "metadata": {},
   "outputs": [
    {
     "name": "stdout",
     "output_type": "stream",
     "text": [
      "means (Loan Amnt, Int rate, Installment):  [0.41178387 0.29246224 0.30496049]\n",
      "std (Loan Amnt, Int rate, Installment):  [0.25616356 0.17783115 0.18778593]\n"
     ]
    }
   ],
   "source": [
    "print('means (Loan Amnt, Int rate, Installment): ', data_scaled.mean(axis=0))\n",
    "print('std (Loan Amnt, Int rate, Installment): ', data_scaled.std(axis=0))"
   ]
  },
  {
   "cell_type": "code",
   "execution_count": null,
   "metadata": {},
   "outputs": [],
   "source": [
    "'''After MinMaxScaling the distributions are not centered at zero and the std is not 1\n",
    "but the min and max are standardized across variables different from what occurs w/ standardization'''"
   ]
  },
  {
   "cell_type": "code",
   "execution_count": 17,
   "metadata": {},
   "outputs": [],
   "source": [
    "from sklearn.preprocessing import RobustScaler\n",
    "scaler = RobustScaler()\n",
    "data_scaled = scaler.fit_transform(data)"
   ]
  },
  {
   "cell_type": "code",
   "execution_count": 18,
   "metadata": {},
   "outputs": [
    {
     "name": "stdout",
     "output_type": "stream",
     "text": [
      "means (Loan Amnt, Int rate, Installment):  [0.08755431 0.04756711 0.1757733 ]\n",
      "std (Loan Amnt, Int rate, Installment):  [0.72579675 0.79270497 0.77776995]\n"
     ]
    }
   ],
   "source": [
    "print('means (Loan Amnt, Int rate, Installment): ', data_scaled.mean(axis=0))\n",
    "print('std (Loan Amnt, Int rate, Installment): ', data_scaled.std(axis=0))"
   ]
  },
  {
   "cell_type": "code",
   "execution_count": 19,
   "metadata": {},
   "outputs": [
    {
     "name": "stdout",
     "output_type": "stream",
     "text": [
      "Min values (Loan Amnt, Int rate, Installment):  [-1.07916667 -1.25612053 -1.0873091 ]\n",
      "Max values (Loan Amnt, Int rate, Installment):  [1.75416667 3.20150659 3.05448119]\n"
     ]
    }
   ],
   "source": [
    "print('Min values (Loan Amnt, Int rate, Installment): ', data_scaled.min(axis=0))\n",
    "print('Max values (Loan Amnt, Int rate, Installment): ', data_scaled.max(axis=0))"
   ]
  },
  {
   "cell_type": "code",
   "execution_count": null,
   "metadata": {},
   "outputs": [],
   "source": []
  }
 ],
 "metadata": {
  "kernelspec": {
   "display_name": "Python 3",
   "language": "python",
   "name": "python3"
  },
  "language_info": {
   "codemirror_mode": {
    "name": "ipython",
    "version": 3
   },
   "file_extension": ".py",
   "mimetype": "text/x-python",
   "name": "python",
   "nbconvert_exporter": "python",
   "pygments_lexer": "ipython3",
   "version": "3.8.8"
  }
 },
 "nbformat": 4,
 "nbformat_minor": 4
}
